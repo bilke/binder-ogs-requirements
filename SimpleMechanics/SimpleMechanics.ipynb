{
 "cells": [
  {
   "cell_type": "raw",
   "id": "96f29a77",
   "metadata": {},
   "source": [
    "title = \"SimpleMechanics\"\n",
    "date = \"2021-09-10\"\n",
    "author = \"Lars Bilke, Jörg Buchwald\"\n",
    "notebook = \"Notebooks/SimpleMechanics.ipynb\"\n",
    "web_subsection = \"small-deformations\"\n",
    "<!--eofm-->"
   ]
  },
  {
   "cell_type": "markdown",
   "id": "996410ea",
   "metadata": {},
   "source": [
    "The following example consists of a simple mechanics problem."
   ]
  },
  {
   "cell_type": "code",
   "execution_count": 2,
   "id": "d08450b6",
   "metadata": {},
   "outputs": [
    {
     "name": "stdout",
     "output_type": "stream",
     "text": [
      "/home/jovyan/work/code/ogs/ogs/Tests/Notebooks\n",
      "OGS finished with project file simple_mechanics.prj.\n",
      "Execution took 0.8449244499206543 s\n"
     ]
    }
   ],
   "source": [
    "from ogs6py import ogs\n",
    "import os\n",
    "\n",
    "cwd = os.getcwd()\n",
    "prj_name = \"SimpleMechanics\"\n",
    "data_dir = os.environ.get('OGS_DATA_DIR', '.')            # <== adapted for mybinder.org\n",
    "out_dir = os.environ.get('OGS_TESTRUNNER_OUT_DIR', '.')   # <== adapted for mybinder.org\n",
    "\n",
    "if not os.path.exists(out_dir):\n",
    "    os.makedirs(out_dir)\n",
    "os.chdir(out_dir)\n",
    "\n",
    "model = ogs.OGS(PROJECT_FILE=f\"{prj_name}.prj\")\n",
    "model.geo.add_geom(filename=f\"{data_dir}/Mechanics/Linear/square_1x1.gml\")\n",
    "model.mesh.add_mesh(filename=f\"{data_dir}/Mechanics/Linear/square_1x1_quad_1e2.vtu\")\n",
    "model.processes.set_process(name=\"SD\",\n",
    "                           type=\"SMALL_DEFORMATION\",\n",
    "                           integration_order=\"2\",\n",
    "                           solid_density=\"rho_sr\",\n",
    "                           specific_body_force=\"0 0\")\n",
    "model.processes.set_constitutive_relation(type=\"LinearElasticIsotropic\",\n",
    "                                        youngs_modulus=\"E\",\n",
    "                                        poissons_ratio=\"nu\")\n",
    "model.processes.add_process_variable(process_variable=\"process_variable\",\n",
    "                                   process_variable_name=\"displacement\")\n",
    "model.processes.add_process_variable(secondary_variable=\"sigma\",\n",
    "                                   output_name=\"sigma\")\n",
    "model.timeloop.add_process(process=\"SD\",\n",
    "                          nonlinear_solver_name=\"basic_newton\",\n",
    "                          convergence_type=\"DeltaX\",\n",
    "                          norm_type=\"NORM2\",\n",
    "                          abstol=\"1e-15\",\n",
    "                          time_discretization=\"BackwardEuler\")\n",
    "model.timeloop.set_stepping(process=\"SD\", type=\"FixedTimeStepping\",\n",
    "                           t_initial=\"0\",\n",
    "                           t_end=\"1\",\n",
    "                           repeat=\"4\",\n",
    "                           delta_t=\"0.25\")\n",
    "model.timeloop.add_output(type=\"VTK\",\n",
    "                         prefix=\"blubb\",\n",
    "                         repeat=\"1\",\n",
    "                         each_steps=\"10\",\n",
    "                         variables=[\"displacement\", \"sigma\"])\n",
    "model.parameters.add_parameter(name=\"E\", type=\"Constant\", value=\"1\")\n",
    "model.parameters.add_parameter(name=\"nu\", type=\"Constant\", value=\"0.3\")\n",
    "model.parameters.add_parameter(name=\"rho_sr\", type=\"Constant\", value=\"1\")\n",
    "model.parameters.add_parameter(name=\"displacement0\",\n",
    "                              type=\"Constant\",\n",
    "                              values=\"0 0\")\n",
    "model.parameters.add_parameter(name=\"dirichlet0\", type=\"Constant\", value=\"0\")\n",
    "model.parameters.add_parameter(name=\"dirichlet1\", type=\"Constant\", value=\"0.05\")\n",
    "model.processvars.set_ic(process_variable_name=\"displacement\",\n",
    "                        components=\"2\",\n",
    "                        order=\"1\",\n",
    "                        initial_condition=\"displacement0\")\n",
    "model.processvars.add_bc(process_variable_name=\"displacement\",\n",
    "                        geometrical_set=\"square_1x1_geometry\",\n",
    "                        geometry=\"left\",\n",
    "                        type=\"Dirichlet\",\n",
    "                        component=\"0\",\n",
    "                        parameter=\"dirichlet0\")\n",
    "model.processvars.add_bc(process_variable_name=\"displacement\",\n",
    "                        geometrical_set=\"square_1x1_geometry\",\n",
    "                        geometry=\"bottom\",\n",
    "                        type=\"Dirichlet\",\n",
    "                        component=\"1\",\n",
    "                        parameter=\"dirichlet0\")\n",
    "model.processvars.add_bc(process_variable_name=\"displacement\",\n",
    "                        geometrical_set=\"square_1x1_geometry\",\n",
    "                        geometry=\"top\",\n",
    "                        type=\"Dirichlet\",\n",
    "                        component=\"1\",\n",
    "                        parameter=\"dirichlet1\")\n",
    "model.nonlinsolvers.add_non_lin_solver(name=\"basic_newton\",\n",
    "                                    type=\"Newton\",\n",
    "                                    max_iter=\"4\",\n",
    "                                    linear_solver=\"general_linear_solver\")\n",
    "model.linsolvers.add_lin_solver(name=\"general_linear_solver\",\n",
    "                              kind=\"lis\",\n",
    "                              solver_type=\"cg\",\n",
    "                              precon_type=\"jacobi\",\n",
    "                              max_iteration_step=\"10000\",\n",
    "                              error_tolerance=\"1e-16\")\n",
    "model.linsolvers.add_lin_solver(name=\"general_linear_solver\",\n",
    "                              kind=\"eigen\",\n",
    "                              solver_type=\"CG\",\n",
    "                              precon_type=\"DIAGONAL\",\n",
    "                              max_iteration_step=\"10000\",\n",
    "                              error_tolerance=\"1e-16\")\n",
    "model.linsolvers.add_lin_solver(name=\"general_linear_solver\",\n",
    "                              kind=\"petsc\",\n",
    "                              prefix=\"sd\",\n",
    "                              solver_type=\"cg\",\n",
    "                              precon_type=\"bjacobi\",\n",
    "                              max_iteration_step=\"10000\",\n",
    "                              error_tolerance=\"1e-16\")\n",
    "try:\n",
    "    model.write_input()\n",
    "    model.run_model(logfile=\"out.txt\")\n",
    "except Exception as inst:\n",
    "    print(f\"{type(inst)}: {inst.args[0]}\")\n",
    "\n",
    "os.chdir(cwd)\n",
    "from datetime import datetime\n",
    "print(datetime.now())"
   ]
  },
  {
   "cell_type": "code",
   "execution_count": 3,
   "id": "1d730e79",
   "metadata": {},
   "outputs": [
    {
     "data": {
      "text/plain": [
       "Text(0, 0.5, 'p')"
      ]
     },
     "execution_count": 3,
     "metadata": {},
     "output_type": "execute_result"
    },
    {
     "data": {
      "image/png": "[encoded data removed]",
      "text/plain": [
       "<Figure size 432x288 with 1 Axes>"
      ]
     },
     "metadata": {
      "needs_background": "light"
     },
     "output_type": "display_data"
    }
   ],
   "source": [
    "import vtuIO\n",
    "\n",
    "pvdfile = vtuIO.PVDIO(f\"{out_dir}/blubb.pvd\", dim=2)\n",
    "time = pvdfile.timesteps\n",
    "points={'pt0': (0.3,0.5,0.0), 'pt1': (0.24,0.21,0.0)}\n",
    "pressure_linear = pvdfile.read_time_series(\"displacement\", points)\n",
    "pressure_nearest = pvdfile.read_time_series(\"displacement\", points, interpolation_method=\"nearest\")\n",
    "\n",
    "import matplotlib.pyplot as plt\n",
    "plt.plot(time, pressure_linear[\"pt0\"], \"b-\", label=\"pt0 linear interpolated\")\n",
    "plt.plot(time, pressure_nearest[\"pt0\"], \"b--\", label=\"pt0 closest point value\")\n",
    "plt.plot(time, pressure_linear[\"pt1\"], \"r-\", label=\"pt1 linear interpolated\")\n",
    "plt.plot(time, pressure_nearest[\"pt1\"], \"r--\", label=\"pt1 closest point value\")\n",
    "plt.legend()\n",
    "plt.xlabel(\"t\")\n",
    "plt.ylabel(\"p\")"
   ]
  }
 ],
 "metadata": {
  "kernelspec": {
   "display_name": "Python 3.9.13 64-bit",
   "language": "python",
   "name": "python3"
  },
  "language_info": {
   "codemirror_mode": {
    "name": "ipython",
    "version": 3
   },
   "file_extension": ".py",
   "mimetype": "text/x-python",
   "name": "python",
   "nbconvert_exporter": "python",
   "pygments_lexer": "ipython3",
   "version": "3.10.6"
  },
  "vscode": {
   "interpreter": {
    "hash": "b0fa6594d8f4cbf19f97940f81e996739fb7646882a419484c72d19e05852a7e"
   }
  }
 },
 "nbformat": 4,
 "nbformat_minor": 5
}
